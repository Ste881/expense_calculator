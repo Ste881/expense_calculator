{
  "nbformat": 4,
  "nbformat_minor": 0,
  "metadata": {
    "colab": {
      "provenance": [],
      "authorship_tag": "ABX9TyPzt8xbIgsPBLbsUqVrC2uH",
      "include_colab_link": true
    },
    "kernelspec": {
      "name": "python3",
      "display_name": "Python 3"
    },
    "language_info": {
      "name": "python"
    }
  },
  "cells": [
    {
      "cell_type": "markdown",
      "metadata": {
        "id": "view-in-github",
        "colab_type": "text"
      },
      "source": [
        "<a href=\"https://colab.research.google.com/github/Ste881/expense_calculator/blob/main/expense_calculator.ipynb\" target=\"_parent\"><img src=\"https://colab.research.google.com/assets/colab-badge.svg\" alt=\"Open In Colab\"/></a>"
      ]
    },
    {
      "cell_type": "code",
      "source": [
        "expense=[0, 0, 0, 0, 0, 0, 0, 0]\n",
        "print(f\"expense array={expense}\")"
      ],
      "metadata": {
        "id": "RXjeCHcrdjnD",
        "colab": {
          "base_uri": "https://localhost:8080/"
        },
        "outputId": "330783d3-163d-429e-f39b-9e3f752e5c2a"
      },
      "execution_count": 69,
      "outputs": [
        {
          "output_type": "stream",
          "name": "stdout",
          "text": [
            "expense array=[0, 0, 0, 0, 0, 0, 0, 0]\n"
          ]
        }
      ]
    },
    {
      "cell_type": "code",
      "source": [
        "def exp_report(exp_type, exp_amount):\n",
        "  if exp_type < 9:\n",
        "    expense[exp_type-1]=expense[exp_type-1]+exp_amount\n",
        "    print(f\"expense array={expense}\")\n",
        "  else:\n",
        "    print(\"not valid\")\n",
        "    "
      ],
      "metadata": {
        "id": "Dyt4HJ8LybVs"
      },
      "execution_count": 70,
      "outputs": []
    },
    {
      "cell_type": "code",
      "source": [
        "expense_type=0\n",
        "while expense_type < 9:\n",
        "  expense_type=int(input(\"Enter the type of expense: \"))\n",
        "  expense_amount=float(input(\"Enter the amount: \"))\n",
        "\n",
        "  print(\"Choose the type of expense: \")\n",
        "  print(\"1. Food\")\n",
        "  print(\"2. Medication\")\n",
        "  print(\"3. Entertainment\")\n",
        "  print(\"4. Groceries\")\n",
        "  print(\"5. Travel\")\n",
        "  print(\"6. Clothing\")\n",
        "  print(\"7. Makeup\")\n",
        "  print(\"8. Other:\")\n",
        "\n",
        "  exp_report(expense_type, expense_amount)\n",
        "  if expense_type > 8:\n",
        "    break"
      ],
      "metadata": {
        "id": "M0WxYy0x0Orr"
      },
      "execution_count": null,
      "outputs": []
    },
    {
      "cell_type": "code",
      "source": [],
      "metadata": {
        "id": "ZyjDsQjB1_dJ"
      },
      "execution_count": null,
      "outputs": []
    }
  ]
}