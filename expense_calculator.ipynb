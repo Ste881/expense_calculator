{
  "nbformat": 4,
  "nbformat_minor": 0,
  "metadata": {
    "colab": {
      "provenance": [],
      "authorship_tag": "ABX9TyMlNjhBtU79r3pHRDvcv7Cx",
      "include_colab_link": true
    },
    "kernelspec": {
      "name": "python3",
      "display_name": "Python 3"
    },
    "language_info": {
      "name": "python"
    }
  },
  "cells": [
    {
      "cell_type": "markdown",
      "metadata": {
        "id": "view-in-github",
        "colab_type": "text"
      },
      "source": [
        "<a href=\"https://colab.research.google.com/github/Ste881/expense_calculator/blob/main/expense_calculator.ipynb\" target=\"_parent\"><img src=\"https://colab.research.google.com/assets/colab-badge.svg\" alt=\"Open In Colab\"/></a>"
      ]
    },
    {
      "cell_type": "code",
      "source": [
        "print(\"Choose the type of expense: \")\n",
        "print(\"1. Food\")\n",
        "print(\"2. Medication\")\n",
        "print(\"3. Entertainment\")\n",
        "print(\"4. Groceries\")\n",
        "print(\"5. Travel\")\n",
        "print(\"6. Clothing\")\n",
        "print(\"7. Makeup\")\n",
        "print(\"8. Other:\")\n",
        "\n",
        "exp_type=int(input(\"Enter the type of expense: \"))\n",
        "exp_amount=float(input(\"Enter the amount: \"))\n"
      ],
      "metadata": {
        "colab": {
          "base_uri": "https://localhost:8080/"
        },
        "id": "aurfc6OOyC9U",
        "outputId": "e3cd3687-617a-4a61-fa72-b7ddab3dd25b"
      },
      "execution_count": 43,
      "outputs": [
        {
          "name": "stdout",
          "output_type": "stream",
          "text": [
            "Choose the type of expense: \n",
            "1. Food\n",
            "2. Medication\n",
            "3. Entertainment\n",
            "4. Groceries\n",
            "5. Travel\n",
            "6. Clothing\n",
            "7. Makeup\n",
            "8. Other:\n",
            "Enter the type of expense: 4\n",
            "Enter the amount: 3\n"
          ]
        }
      ]
    },
    {
      "cell_type": "code",
      "source": [
        "expense=[0, 0, 0, 0, 0, 0, 0, 0]\n",
        "print(f\"expense array={expense}\")"
      ],
      "metadata": {
        "id": "RXjeCHcrdjnD",
        "colab": {
          "base_uri": "https://localhost:8080/"
        },
        "outputId": "1adb4875-36ad-4abf-897a-f20183e7aa2a"
      },
      "execution_count": 44,
      "outputs": [
        {
          "output_type": "stream",
          "name": "stdout",
          "text": [
            "expense array=[0, 0, 0, 0, 0, 0, 0, 0]\n"
          ]
        }
      ]
    },
    {
      "cell_type": "code",
      "source": [
        "def exp_report(exp_type, exp_amount):\n",
        "  if exp_type < 9:\n",
        "    expense[exp_type-1]=expense[exp_type-1]+exp_amount\n",
        "    print(f\"expense array={expense}\")\n",
        "  else:\n",
        "    print(\"not valid\")\n"
      ],
      "metadata": {
        "id": "Dyt4HJ8LybVs"
      },
      "execution_count": 45,
      "outputs": []
    },
    {
      "cell_type": "code",
      "source": [],
      "metadata": {
        "id": "M0WxYy0x0Orr"
      },
      "execution_count": null,
      "outputs": []
    }
  ]
}