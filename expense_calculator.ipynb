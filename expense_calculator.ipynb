{
  "nbformat": 4,
  "nbformat_minor": 0,
  "metadata": {
    "colab": {
      "provenance": [],
      "authorship_tag": "ABX9TyOrtt8lKZm4WY8pwGU6sro3",
      "include_colab_link": true
    },
    "kernelspec": {
      "name": "python3",
      "display_name": "Python 3"
    },
    "language_info": {
      "name": "python"
    }
  },
  "cells": [
    {
      "cell_type": "markdown",
      "metadata": {
        "id": "view-in-github",
        "colab_type": "text"
      },
      "source": [
        "<a href=\"https://colab.research.google.com/github/Ste881/expense_calculator/blob/main/expense_calculator.ipynb\" target=\"_parent\"><img src=\"https://colab.research.google.com/assets/colab-badge.svg\" alt=\"Open In Colab\"/></a>"
      ]
    },
    {
      "cell_type": "code",
      "source": [
        "expense=[0, 0, 0, 0, 0, 0, 0, 0]\n",
        "print(f\"expense array={expense}\")"
      ],
      "metadata": {
        "id": "RXjeCHcrdjnD",
        "colab": {
          "base_uri": "https://localhost:8080/"
        },
        "outputId": "ee10c4e0-ac5c-4dd5-9a78-0097532f72b8"
      },
      "execution_count": 86,
      "outputs": [
        {
          "output_type": "stream",
          "name": "stdout",
          "text": [
            "expense array=[0, 0, 0, 0, 0, 0, 0, 0]\n"
          ]
        }
      ]
    },
    {
      "cell_type": "code",
      "source": [
        "def exp_report(exp_type, exp_amount):\n",
        "  if exp_type <= 7:\n",
        "    expense[exp_type-1]=expense[exp_type-1]+exp_amount\n",
        "    print(f\"expense array={expense}\")\n",
        "  elif exp_type == 8:\n",
        "    extra_expense_name=[]\n",
        "    extra_expense_name= extra_expense_name.append(input(\"Enter the name of the expense: \"))\n",
        "    extra_expense=int(input(\"Enter the amount: \"))\n",
        "    expense.append(extra_expense)\n",
        "  else:\n",
        "    print(\"not valid\")\n",
        "    "
      ],
      "metadata": {
        "id": "Dyt4HJ8LybVs"
      },
      "execution_count": 87,
      "outputs": []
    },
    {
      "cell_type": "code",
      "source": [
        "expense_type=0\n",
        "while expense_type < 9 :\n",
        "  expense_type=int(input(\"Enter the type of expense: \"))\n",
        "  expense_amount=float(input(\"Enter the amount: \"))\n",
        "\n",
        "  print(\"Choose the type of expense: \")\n",
        "  print(\"1. Food\")\n",
        "  print(\"2. Medication\")\n",
        "  print(\"3. Entertainment\")\n",
        "  print(\"4. Groceries\")\n",
        "  print(\"5. Travel\")\n",
        "  print(\"6. Clothing\")\n",
        "  print(\"7. Makeup\")\n",
        "  print(\"8. Other:\")\n",
        "  if expense_type > 8:\n",
        "      break\n",
        "  exp_report(expense_type, expense_amount)\n",
        " "
      ],
      "metadata": {
        "id": "M0WxYy0x0Orr"
      },
      "execution_count": null,
      "outputs": []
    },
    {
      "cell_type": "code",
      "source": [],
      "metadata": {
        "id": "ZyjDsQjB1_dJ"
      },
      "execution_count": null,
      "outputs": []
    }
  ]
}